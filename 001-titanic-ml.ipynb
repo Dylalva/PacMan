{
 "cells": [
  {
   "cell_type": "markdown",
   "id": "fa7ff914",
   "metadata": {
    "papermill": {
     "duration": 0.004521,
     "end_time": "2025-07-12T21:36:08.332929",
     "exception": false,
     "start_time": "2025-07-12T21:36:08.328408",
     "status": "completed"
    },
    "tags": []
   },
   "source": [
    "# Dataset Description\n",
    "\n",
    "## Overview\n",
    "\n",
    "The data has been split into two groups:\n",
    "\n",
    "- **training set** (`train.csv`)\n",
    "- **test set** (`test.csv`)\n",
    "\n",
    "The training set should be used to build your machine learning models. For the training set, we provide the outcome (also known as the “ground truth”) for each passenger. Your model will be based on “features” like passengers’ gender and class. You can also use feature engineering to create new features.\n",
    "\n",
    "The test set should be used to see how well your model performs on unseen data. For the test set, we do not provide the ground truth for each passenger. It is your job to predict these outcomes. For each passenger in the test set, use the model you trained to predict whether or not they survived the sinking of the Titanic.\n",
    "\n",
    "We also include **`gender_submission.csv`**, a set of predictions that assume all and only female passengers survive, as an example of what a submission file should look like.\n",
    "\n",
    "---\n",
    "\n",
    "## Data Dictionary\n",
    "\n",
    "| Variable  | Definition                                                         | Key               |\n",
    "|-----------|--------------------------------------------------------------------|-------------------|\n",
    "| survival  | Survival                                                           | 0 = No, 1 = Yes   |\n",
    "| pclass    | Ticket class                                                       | 1 = 1st, 2 = 2nd, 3 = 3rd |\n",
    "| sex       | Sex                                                                |                   |\n",
    "| age       | Age in years                                                       |                   |\n",
    "| sibsp     | # of siblings / spouses aboard the Titanic                         |                   |\n",
    "| parch     | # of parents / children aboard the Titanic                         |                   |\n",
    "| ticket    | Ticket number                                                      |                   |\n",
    "| fare      | Passenger fare                                                     |                   |\n",
    "| cabin     | Cabin number                                                       |                   |\n",
    "| embarked  | Port of Embarkation                                                | C = Cherbourg, Q = Queenstown, S = Southampton |\n",
    "\n",
    "---\n",
    "\n",
    "## Variable Notes\n",
    "\n",
    "- **pclass**: A proxy for socio-economic status (SES)\n",
    "  - 1st = Upper  \n",
    "  - 2nd = Middle  \n",
    "  - 3rd = Lower  \n",
    "\n",
    "- **age**: Age is fractional if less than 1. If the age is estimated, it is in the form of `xx.5`.\n",
    "\n",
    "- **sibsp**: The dataset defines family relations in this way:\n",
    "  - **Sibling** = brother, sister, stepbrother, stepsister  \n",
    "  - **Spouse** = husband, wife (mistresses and fiancés were ignored)  \n",
    "\n",
    "- **parch**: The dataset defines family relations in this way:\n",
    "  - **Parent** = mother, father  \n",
    "  - **Child** = daughter, son, stepdaughter, stepson  \n",
    "  - Some children travelled only with a nanny, therefore `parch = 0` for them.\n",
    "\n",
    "- **embarked**: Port of Embarkation\n",
    "  - **C** = Cherbourg  \n",
    "  - **Q** = Queenstown  \n",
    "  - **S** = Southampton  \n"
   ]
  },
  {
   "cell_type": "code",
   "execution_count": 1,
   "id": "c4114f7b",
   "metadata": {
    "_cell_guid": "b1076dfc-b9ad-4769-8c92-a6c4dae69d19",
    "_uuid": "8f2839f25d086af736a60e9eeb907d3b93b6e0e5",
    "execution": {
     "iopub.execute_input": "2025-07-12T21:36:08.341817Z",
     "iopub.status.busy": "2025-07-12T21:36:08.341557Z",
     "iopub.status.idle": "2025-07-12T21:36:11.772962Z",
     "shell.execute_reply": "2025-07-12T21:36:11.772324Z"
    },
    "papermill": {
     "duration": 3.437294,
     "end_time": "2025-07-12T21:36:11.774305",
     "exception": false,
     "start_time": "2025-07-12T21:36:08.337011",
     "status": "completed"
    },
    "tags": []
   },
   "outputs": [],
   "source": [
    "import pandas as pd\n",
    "import matplotlib.pyplot as plt\n",
    "import numpy as np\n",
    "import joblib\n",
    "import seaborn as sns\n",
    "\n",
    "%matplotlib inline"
   ]
  },
  {
   "cell_type": "code",
   "execution_count": 2,
   "id": "f786a28e",
   "metadata": {
    "execution": {
     "iopub.execute_input": "2025-07-12T21:36:11.783479Z",
     "iopub.status.busy": "2025-07-12T21:36:11.782946Z",
     "iopub.status.idle": "2025-07-12T21:36:11.847762Z",
     "shell.execute_reply": "2025-07-12T21:36:11.847180Z"
    },
    "papermill": {
     "duration": 0.070578,
     "end_time": "2025-07-12T21:36:11.849080",
     "exception": false,
     "start_time": "2025-07-12T21:36:11.778502",
     "status": "completed"
    },
    "tags": []
   },
   "outputs": [
    {
     "data": {
      "text/html": [
       "<div>\n",
       "<style scoped>\n",
       "    .dataframe tbody tr th:only-of-type {\n",
       "        vertical-align: middle;\n",
       "    }\n",
       "\n",
       "    .dataframe tbody tr th {\n",
       "        vertical-align: top;\n",
       "    }\n",
       "\n",
       "    .dataframe thead th {\n",
       "        text-align: right;\n",
       "    }\n",
       "</style>\n",
       "<table border=\"1\" class=\"dataframe\">\n",
       "  <thead>\n",
       "    <tr style=\"text-align: right;\">\n",
       "      <th></th>\n",
       "      <th>Survived</th>\n",
       "      <th>Pclass</th>\n",
       "      <th>Name</th>\n",
       "      <th>Sex</th>\n",
       "      <th>Age</th>\n",
       "      <th>SibSp</th>\n",
       "      <th>Parch</th>\n",
       "      <th>Ticket</th>\n",
       "      <th>Fare</th>\n",
       "      <th>Cabin</th>\n",
       "      <th>Embarked</th>\n",
       "    </tr>\n",
       "    <tr>\n",
       "      <th>PassengerId</th>\n",
       "      <th></th>\n",
       "      <th></th>\n",
       "      <th></th>\n",
       "      <th></th>\n",
       "      <th></th>\n",
       "      <th></th>\n",
       "      <th></th>\n",
       "      <th></th>\n",
       "      <th></th>\n",
       "      <th></th>\n",
       "      <th></th>\n",
       "    </tr>\n",
       "  </thead>\n",
       "  <tbody>\n",
       "    <tr>\n",
       "      <th>1</th>\n",
       "      <td>0</td>\n",
       "      <td>3</td>\n",
       "      <td>Braund, Mr. Owen Harris</td>\n",
       "      <td>male</td>\n",
       "      <td>22.0</td>\n",
       "      <td>1</td>\n",
       "      <td>0</td>\n",
       "      <td>A/5 21171</td>\n",
       "      <td>7.2500</td>\n",
       "      <td>NaN</td>\n",
       "      <td>S</td>\n",
       "    </tr>\n",
       "    <tr>\n",
       "      <th>2</th>\n",
       "      <td>1</td>\n",
       "      <td>1</td>\n",
       "      <td>Cumings, Mrs. John Bradley (Florence Briggs Th...</td>\n",
       "      <td>female</td>\n",
       "      <td>38.0</td>\n",
       "      <td>1</td>\n",
       "      <td>0</td>\n",
       "      <td>PC 17599</td>\n",
       "      <td>71.2833</td>\n",
       "      <td>C85</td>\n",
       "      <td>C</td>\n",
       "    </tr>\n",
       "    <tr>\n",
       "      <th>3</th>\n",
       "      <td>1</td>\n",
       "      <td>3</td>\n",
       "      <td>Heikkinen, Miss. Laina</td>\n",
       "      <td>female</td>\n",
       "      <td>26.0</td>\n",
       "      <td>0</td>\n",
       "      <td>0</td>\n",
       "      <td>STON/O2. 3101282</td>\n",
       "      <td>7.9250</td>\n",
       "      <td>NaN</td>\n",
       "      <td>S</td>\n",
       "    </tr>\n",
       "    <tr>\n",
       "      <th>4</th>\n",
       "      <td>1</td>\n",
       "      <td>1</td>\n",
       "      <td>Futrelle, Mrs. Jacques Heath (Lily May Peel)</td>\n",
       "      <td>female</td>\n",
       "      <td>35.0</td>\n",
       "      <td>1</td>\n",
       "      <td>0</td>\n",
       "      <td>113803</td>\n",
       "      <td>53.1000</td>\n",
       "      <td>C123</td>\n",
       "      <td>S</td>\n",
       "    </tr>\n",
       "    <tr>\n",
       "      <th>5</th>\n",
       "      <td>0</td>\n",
       "      <td>3</td>\n",
       "      <td>Allen, Mr. William Henry</td>\n",
       "      <td>male</td>\n",
       "      <td>35.0</td>\n",
       "      <td>0</td>\n",
       "      <td>0</td>\n",
       "      <td>373450</td>\n",
       "      <td>8.0500</td>\n",
       "      <td>NaN</td>\n",
       "      <td>S</td>\n",
       "    </tr>\n",
       "  </tbody>\n",
       "</table>\n",
       "</div>"
      ],
      "text/plain": [
       "             Survived  Pclass  \\\n",
       "PassengerId                     \n",
       "1                   0       3   \n",
       "2                   1       1   \n",
       "3                   1       3   \n",
       "4                   1       1   \n",
       "5                   0       3   \n",
       "\n",
       "                                                          Name     Sex   Age  \\\n",
       "PassengerId                                                                    \n",
       "1                                      Braund, Mr. Owen Harris    male  22.0   \n",
       "2            Cumings, Mrs. John Bradley (Florence Briggs Th...  female  38.0   \n",
       "3                                       Heikkinen, Miss. Laina  female  26.0   \n",
       "4                 Futrelle, Mrs. Jacques Heath (Lily May Peel)  female  35.0   \n",
       "5                                     Allen, Mr. William Henry    male  35.0   \n",
       "\n",
       "             SibSp  Parch            Ticket     Fare Cabin Embarked  \n",
       "PassengerId                                                          \n",
       "1                1      0         A/5 21171   7.2500   NaN        S  \n",
       "2                1      0          PC 17599  71.2833   C85        C  \n",
       "3                0      0  STON/O2. 3101282   7.9250   NaN        S  \n",
       "4                1      0            113803  53.1000  C123        S  \n",
       "5                0      0            373450   8.0500   NaN        S  "
      ]
     },
     "execution_count": 2,
     "metadata": {},
     "output_type": "execute_result"
    }
   ],
   "source": [
    "train_df = pd.read_csv(\"/kaggle/input/titanic/train.csv\")\n",
    "test_df  = pd.read_csv(\"/kaggle/input/titanic/test.csv\")\n",
    "y_test   = pd.read_csv(\"/kaggle/input/titanic/gender_submission.csv\")\n",
    "train_df = train_df.set_index('PassengerId')\n",
    "test_df  = test_df.set_index('PassengerId')\n",
    "y_test   = y_test.set_index('PassengerId')\n",
    "train_df.head(5)"
   ]
  },
  {
   "cell_type": "markdown",
   "id": "73ea718b",
   "metadata": {
    "papermill": {
     "duration": 0.00411,
     "end_time": "2025-07-12T21:36:11.857672",
     "exception": false,
     "start_time": "2025-07-12T21:36:11.853562",
     "status": "completed"
    },
    "tags": []
   },
   "source": [
    "---\n",
    "## EDA"
   ]
  },
  {
   "cell_type": "code",
   "execution_count": 3,
   "id": "3fd43bb8",
   "metadata": {
    "execution": {
     "iopub.execute_input": "2025-07-12T21:36:11.866516Z",
     "iopub.status.busy": "2025-07-12T21:36:11.866257Z",
     "iopub.status.idle": "2025-07-12T21:36:11.889801Z",
     "shell.execute_reply": "2025-07-12T21:36:11.889167Z"
    },
    "papermill": {
     "duration": 0.029293,
     "end_time": "2025-07-12T21:36:11.890960",
     "exception": false,
     "start_time": "2025-07-12T21:36:11.861667",
     "status": "completed"
    },
    "tags": []
   },
   "outputs": [
    {
     "data": {
      "text/html": [
       "<div>\n",
       "<style scoped>\n",
       "    .dataframe tbody tr th:only-of-type {\n",
       "        vertical-align: middle;\n",
       "    }\n",
       "\n",
       "    .dataframe tbody tr th {\n",
       "        vertical-align: top;\n",
       "    }\n",
       "\n",
       "    .dataframe thead th {\n",
       "        text-align: right;\n",
       "    }\n",
       "</style>\n",
       "<table border=\"1\" class=\"dataframe\">\n",
       "  <thead>\n",
       "    <tr style=\"text-align: right;\">\n",
       "      <th></th>\n",
       "      <th>Survived</th>\n",
       "      <th>Pclass</th>\n",
       "      <th>Age</th>\n",
       "      <th>SibSp</th>\n",
       "      <th>Parch</th>\n",
       "      <th>Fare</th>\n",
       "    </tr>\n",
       "  </thead>\n",
       "  <tbody>\n",
       "    <tr>\n",
       "      <th>count</th>\n",
       "      <td>891.000000</td>\n",
       "      <td>891.000000</td>\n",
       "      <td>714.000000</td>\n",
       "      <td>891.000000</td>\n",
       "      <td>891.000000</td>\n",
       "      <td>891.000000</td>\n",
       "    </tr>\n",
       "    <tr>\n",
       "      <th>mean</th>\n",
       "      <td>0.383838</td>\n",
       "      <td>2.308642</td>\n",
       "      <td>29.699118</td>\n",
       "      <td>0.523008</td>\n",
       "      <td>0.381594</td>\n",
       "      <td>32.204208</td>\n",
       "    </tr>\n",
       "    <tr>\n",
       "      <th>std</th>\n",
       "      <td>0.486592</td>\n",
       "      <td>0.836071</td>\n",
       "      <td>14.526497</td>\n",
       "      <td>1.102743</td>\n",
       "      <td>0.806057</td>\n",
       "      <td>49.693429</td>\n",
       "    </tr>\n",
       "    <tr>\n",
       "      <th>min</th>\n",
       "      <td>0.000000</td>\n",
       "      <td>1.000000</td>\n",
       "      <td>0.420000</td>\n",
       "      <td>0.000000</td>\n",
       "      <td>0.000000</td>\n",
       "      <td>0.000000</td>\n",
       "    </tr>\n",
       "    <tr>\n",
       "      <th>25%</th>\n",
       "      <td>0.000000</td>\n",
       "      <td>2.000000</td>\n",
       "      <td>20.125000</td>\n",
       "      <td>0.000000</td>\n",
       "      <td>0.000000</td>\n",
       "      <td>7.910400</td>\n",
       "    </tr>\n",
       "    <tr>\n",
       "      <th>50%</th>\n",
       "      <td>0.000000</td>\n",
       "      <td>3.000000</td>\n",
       "      <td>28.000000</td>\n",
       "      <td>0.000000</td>\n",
       "      <td>0.000000</td>\n",
       "      <td>14.454200</td>\n",
       "    </tr>\n",
       "    <tr>\n",
       "      <th>75%</th>\n",
       "      <td>1.000000</td>\n",
       "      <td>3.000000</td>\n",
       "      <td>38.000000</td>\n",
       "      <td>1.000000</td>\n",
       "      <td>0.000000</td>\n",
       "      <td>31.000000</td>\n",
       "    </tr>\n",
       "    <tr>\n",
       "      <th>max</th>\n",
       "      <td>1.000000</td>\n",
       "      <td>3.000000</td>\n",
       "      <td>80.000000</td>\n",
       "      <td>8.000000</td>\n",
       "      <td>6.000000</td>\n",
       "      <td>512.329200</td>\n",
       "    </tr>\n",
       "  </tbody>\n",
       "</table>\n",
       "</div>"
      ],
      "text/plain": [
       "         Survived      Pclass         Age       SibSp       Parch        Fare\n",
       "count  891.000000  891.000000  714.000000  891.000000  891.000000  891.000000\n",
       "mean     0.383838    2.308642   29.699118    0.523008    0.381594   32.204208\n",
       "std      0.486592    0.836071   14.526497    1.102743    0.806057   49.693429\n",
       "min      0.000000    1.000000    0.420000    0.000000    0.000000    0.000000\n",
       "25%      0.000000    2.000000   20.125000    0.000000    0.000000    7.910400\n",
       "50%      0.000000    3.000000   28.000000    0.000000    0.000000   14.454200\n",
       "75%      1.000000    3.000000   38.000000    1.000000    0.000000   31.000000\n",
       "max      1.000000    3.000000   80.000000    8.000000    6.000000  512.329200"
      ]
     },
     "execution_count": 3,
     "metadata": {},
     "output_type": "execute_result"
    }
   ],
   "source": [
    "train_df.describe()"
   ]
  },
  {
   "cell_type": "code",
   "execution_count": 4,
   "id": "3ad8f2c0",
   "metadata": {
    "execution": {
     "iopub.execute_input": "2025-07-12T21:36:11.900662Z",
     "iopub.status.busy": "2025-07-12T21:36:11.900450Z",
     "iopub.status.idle": "2025-07-12T21:36:11.906196Z",
     "shell.execute_reply": "2025-07-12T21:36:11.905592Z"
    },
    "papermill": {
     "duration": 0.011957,
     "end_time": "2025-07-12T21:36:11.907403",
     "exception": false,
     "start_time": "2025-07-12T21:36:11.895446",
     "status": "completed"
    },
    "tags": []
   },
   "outputs": [
    {
     "data": {
      "text/plain": [
       "Survived      0\n",
       "Pclass        0\n",
       "Name          0\n",
       "Sex           0\n",
       "Age         177\n",
       "SibSp         0\n",
       "Parch         0\n",
       "Ticket        0\n",
       "Fare          0\n",
       "Cabin       687\n",
       "Embarked      2\n",
       "dtype: int64"
      ]
     },
     "execution_count": 4,
     "metadata": {},
     "output_type": "execute_result"
    }
   ],
   "source": [
    "train_df.isnull().sum()"
   ]
  },
  {
   "cell_type": "code",
   "execution_count": 5,
   "id": "97649032",
   "metadata": {
    "execution": {
     "iopub.execute_input": "2025-07-12T21:36:11.917947Z",
     "iopub.status.busy": "2025-07-12T21:36:11.917723Z",
     "iopub.status.idle": "2025-07-12T21:36:11.935673Z",
     "shell.execute_reply": "2025-07-12T21:36:11.934887Z"
    },
    "papermill": {
     "duration": 0.024371,
     "end_time": "2025-07-12T21:36:11.936930",
     "exception": false,
     "start_time": "2025-07-12T21:36:11.912559",
     "status": "completed"
    },
    "tags": []
   },
   "outputs": [
    {
     "name": "stdout",
     "output_type": "stream",
     "text": [
      "<class 'pandas.core.frame.DataFrame'>\n",
      "Index: 891 entries, 1 to 891\n",
      "Data columns (total 11 columns):\n",
      " #   Column    Non-Null Count  Dtype  \n",
      "---  ------    --------------  -----  \n",
      " 0   Survived  891 non-null    int64  \n",
      " 1   Pclass    891 non-null    int64  \n",
      " 2   Name      891 non-null    object \n",
      " 3   Sex       891 non-null    object \n",
      " 4   Age       714 non-null    float64\n",
      " 5   SibSp     891 non-null    int64  \n",
      " 6   Parch     891 non-null    int64  \n",
      " 7   Ticket    891 non-null    object \n",
      " 8   Fare      891 non-null    float64\n",
      " 9   Cabin     204 non-null    object \n",
      " 10  Embarked  889 non-null    object \n",
      "dtypes: float64(2), int64(4), object(5)\n",
      "memory usage: 83.5+ KB\n"
     ]
    }
   ],
   "source": [
    "train_df.info()"
   ]
  },
  {
   "cell_type": "code",
   "execution_count": 6,
   "id": "cedad709",
   "metadata": {
    "execution": {
     "iopub.execute_input": "2025-07-12T21:36:11.947237Z",
     "iopub.status.busy": "2025-07-12T21:36:11.947034Z",
     "iopub.status.idle": "2025-07-12T21:36:13.052980Z",
     "shell.execute_reply": "2025-07-12T21:36:13.052171Z"
    },
    "papermill": {
     "duration": 1.112476,
     "end_time": "2025-07-12T21:36:13.054632",
     "exception": false,
     "start_time": "2025-07-12T21:36:11.942156",
     "status": "completed"
    },
    "tags": []
   },
   "outputs": [
    {
     "data": {
      "text/plain": [
       "array([[<Axes: title={'center': 'Survived'}>,\n",
       "        <Axes: title={'center': 'Pclass'}>],\n",
       "       [<Axes: title={'center': 'Age'}>,\n",
       "        <Axes: title={'center': 'SibSp'}>],\n",
       "       [<Axes: title={'center': 'Parch'}>,\n",
       "        <Axes: title={'center': 'Fare'}>]], dtype=object)"
      ]
     },
     "execution_count": 6,
     "metadata": {},
     "output_type": "execute_result"
    },
    {
     "data": {
      "image/png": "[encoded data removed]",
      "text/plain": [
       "<Figure size 1200x800 with 6 Axes>"
      ]
     },
     "metadata": {},
     "output_type": "display_data"
    }
   ],
   "source": [
    "train_df.hist(figsize=(12,8))"
   ]
  },
  {
   "cell_type": "markdown",
   "id": "d0ea0d8c",
   "metadata": {
    "papermill": {
     "duration": 0.004937,
     "end_time": "2025-07-12T21:36:13.065193",
     "exception": false,
     "start_time": "2025-07-12T21:36:13.060256",
     "status": "completed"
    },
    "tags": []
   },
   "source": [
    "---\n",
    "## Pipeline"
   ]
  },
  {
   "cell_type": "code",
   "execution_count": 7,
   "id": "14ff58a0",
   "metadata": {
    "execution": {
     "iopub.execute_input": "2025-07-12T21:36:13.076314Z",
     "iopub.status.busy": "2025-07-12T21:36:13.076073Z",
     "iopub.status.idle": "2025-07-12T21:36:13.499331Z",
     "shell.execute_reply": "2025-07-12T21:36:13.498754Z"
    },
    "papermill": {
     "duration": 0.430451,
     "end_time": "2025-07-12T21:36:13.500859",
     "exception": false,
     "start_time": "2025-07-12T21:36:13.070408",
     "status": "completed"
    },
    "tags": []
   },
   "outputs": [],
   "source": [
    "from sklearn.pipeline import Pipeline\n",
    "from sklearn.impute import SimpleImputer\n",
    "from sklearn.preprocessing import StandardScaler\n",
    "num_pipeline = Pipeline([\n",
    "        (\"imputer\", SimpleImputer(strategy=\"median\")),\n",
    "        (\"scaler\", StandardScaler())\n",
    "    ])"
   ]
  },
  {
   "cell_type": "code",
   "execution_count": 8,
   "id": "d1ba6803",
   "metadata": {
    "execution": {
     "iopub.execute_input": "2025-07-12T21:36:13.512819Z",
     "iopub.status.busy": "2025-07-12T21:36:13.512607Z",
     "iopub.status.idle": "2025-07-12T21:36:13.516710Z",
     "shell.execute_reply": "2025-07-12T21:36:13.515949Z"
    },
    "papermill": {
     "duration": 0.011275,
     "end_time": "2025-07-12T21:36:13.517860",
     "exception": false,
     "start_time": "2025-07-12T21:36:13.506585",
     "status": "completed"
    },
    "tags": []
   },
   "outputs": [],
   "source": [
    "from sklearn.preprocessing import OrdinalEncoder, OneHotEncoder\n",
    "cat_pipeline = Pipeline([\n",
    "        (\"ordinal_encoder\", OrdinalEncoder()),    \n",
    "        (\"imputer\", SimpleImputer(strategy=\"most_frequent\")),\n",
    "        (\"cat_encoder\", OneHotEncoder(sparse=False)),\n",
    "    ])"
   ]
  },
  {
   "cell_type": "code",
   "execution_count": 9,
   "id": "32a261dd",
   "metadata": {
    "execution": {
     "iopub.execute_input": "2025-07-12T21:36:13.528531Z",
     "iopub.status.busy": "2025-07-12T21:36:13.528247Z",
     "iopub.status.idle": "2025-07-12T21:36:13.543992Z",
     "shell.execute_reply": "2025-07-12T21:36:13.543257Z"
    },
    "papermill": {
     "duration": 0.022488,
     "end_time": "2025-07-12T21:36:13.545188",
     "exception": false,
     "start_time": "2025-07-12T21:36:13.522700",
     "status": "completed"
    },
    "tags": []
   },
   "outputs": [],
   "source": [
    "from sklearn.compose import ColumnTransformer\n",
    "\n",
    "num_attribs = [\"Age\", \"SibSp\", \"Parch\", \"Fare\"]\n",
    "cat_attribs = [\"Pclass\", \"Sex\", \"Embarked\"]\n",
    "target = 'Survived'\n",
    "preprocess_pipeline = ColumnTransformer([\n",
    "        (\"num\", num_pipeline, num_attribs),\n",
    "        (\"cat\", cat_pipeline, cat_attribs),\n",
    "    ])"
   ]
  },
  {
   "cell_type": "code",
   "execution_count": 10,
   "id": "cc6d6714",
   "metadata": {
    "execution": {
     "iopub.execute_input": "2025-07-12T21:36:13.556923Z",
     "iopub.status.busy": "2025-07-12T21:36:13.556133Z",
     "iopub.status.idle": "2025-07-12T21:36:13.583943Z",
     "shell.execute_reply": "2025-07-12T21:36:13.583210Z"
    },
    "papermill": {
     "duration": 0.034526,
     "end_time": "2025-07-12T21:36:13.585111",
     "exception": false,
     "start_time": "2025-07-12T21:36:13.550585",
     "status": "completed"
    },
    "tags": []
   },
   "outputs": [
    {
     "name": "stderr",
     "output_type": "stream",
     "text": [
      "/usr/local/lib/python3.11/dist-packages/sklearn/preprocessing/_encoders.py:868: FutureWarning: `sparse` was renamed to `sparse_output` in version 1.2 and will be removed in 1.4. `sparse_output` is ignored unless you leave `sparse` to its default value.\n",
      "  warnings.warn(\n"
     ]
    },
    {
     "data": {
      "text/plain": [
       "array([[-0.56573646,  0.43279337, -0.47367361, ...,  0.        ,\n",
       "         0.        ,  1.        ],\n",
       "       [ 0.66386103,  0.43279337, -0.47367361, ...,  1.        ,\n",
       "         0.        ,  0.        ],\n",
       "       [-0.25833709, -0.4745452 , -0.47367361, ...,  0.        ,\n",
       "         0.        ,  1.        ],\n",
       "       ...,\n",
       "       [-0.1046374 ,  0.43279337,  2.00893337, ...,  0.        ,\n",
       "         0.        ,  1.        ],\n",
       "       [-0.25833709, -0.4745452 , -0.47367361, ...,  1.        ,\n",
       "         0.        ,  0.        ],\n",
       "       [ 0.20276197, -0.4745452 , -0.47367361, ...,  0.        ,\n",
       "         1.        ,  0.        ]])"
      ]
     },
     "execution_count": 10,
     "metadata": {},
     "output_type": "execute_result"
    }
   ],
   "source": [
    "X_train = preprocess_pipeline.fit_transform(train_df)\n",
    "X_train"
   ]
  },
  {
   "cell_type": "code",
   "execution_count": 11,
   "id": "1f54c81f",
   "metadata": {
    "execution": {
     "iopub.execute_input": "2025-07-12T21:36:13.597028Z",
     "iopub.status.busy": "2025-07-12T21:36:13.596649Z",
     "iopub.status.idle": "2025-07-12T21:36:13.600066Z",
     "shell.execute_reply": "2025-07-12T21:36:13.599372Z"
    },
    "papermill": {
     "duration": 0.010812,
     "end_time": "2025-07-12T21:36:13.601230",
     "exception": false,
     "start_time": "2025-07-12T21:36:13.590418",
     "status": "completed"
    },
    "tags": []
   },
   "outputs": [],
   "source": [
    "y_train = train_df[target]\n",
    "y_test  = y_test[target]"
   ]
  },
  {
   "cell_type": "markdown",
   "id": "9ef83016",
   "metadata": {
    "papermill": {
     "duration": 0.004872,
     "end_time": "2025-07-12T21:36:13.611408",
     "exception": false,
     "start_time": "2025-07-12T21:36:13.606536",
     "status": "completed"
    },
    "tags": []
   },
   "source": [
    "---\n",
    "## Model"
   ]
  },
  {
   "cell_type": "code",
   "execution_count": 12,
   "id": "85b55144",
   "metadata": {
    "execution": {
     "iopub.execute_input": "2025-07-12T21:36:13.622059Z",
     "iopub.status.busy": "2025-07-12T21:36:13.621855Z",
     "iopub.status.idle": "2025-07-12T21:36:13.768522Z",
     "shell.execute_reply": "2025-07-12T21:36:13.767715Z"
    },
    "papermill": {
     "duration": 0.153686,
     "end_time": "2025-07-12T21:36:13.770005",
     "exception": false,
     "start_time": "2025-07-12T21:36:13.616319",
     "status": "completed"
    },
    "tags": []
   },
   "outputs": [],
   "source": [
    "from sklearn.ensemble import RandomForestClassifier\n",
    "from sklearn.linear_model import LogisticRegression\n",
    "from sklearn.tree import DecisionTreeClassifier\n",
    "from sklearn.model_selection import RandomizedSearchCV, cross_val_score, GridSearchCV\n",
    "from sklearn.svm import SVC\n",
    "from sklearn.neighbors import KNeighborsClassifier\n",
    "\n",
    "models = {\n",
    "    'logistic': {\n",
    "        'model': LogisticRegression(max_iter=1000),\n",
    "        'use_scaled': True,\n",
    "        'params': {'C': np.logspace(-4, 4, 20), 'solver': ['lbfgs', 'liblinear']}\n",
    "    },\n",
    "    'rf': {\n",
    "        'model': RandomForestClassifier(random_state=42),\n",
    "        'use_scaled': False,\n",
    "        'params': {'n_estimators': [100, 150, 200], 'max_depth': [None, 10, 20], 'min_samples_split': [2, 5, 8]}\n",
    "    },\n",
    "    'knn': {\n",
    "        'model': KNeighborsClassifier(),\n",
    "        'use_scaled': True,\n",
    "        'params': {'n_neighbors': [3, 4, 5], 'weights': ['uniform', 'distance']}\n",
    "    },\n",
    "    'svm': {\n",
    "        'model': SVC(probability=True),\n",
    "        'use_scaled': True,\n",
    "        'params': {'C': np.logspace(-3, 3), 'kernel': ['rbf'], 'gamma': ['scale', 'auto']}\n",
    "    }\n",
    "}"
   ]
  },
  {
   "cell_type": "code",
   "execution_count": 13,
   "id": "230bf406",
   "metadata": {
    "execution": {
     "iopub.execute_input": "2025-07-12T21:36:13.782284Z",
     "iopub.status.busy": "2025-07-12T21:36:13.782065Z",
     "iopub.status.idle": "2025-07-12T21:36:39.660665Z",
     "shell.execute_reply": "2025-07-12T21:36:39.659697Z"
    },
    "papermill": {
     "duration": 25.885989,
     "end_time": "2025-07-12T21:36:39.661876",
     "exception": false,
     "start_time": "2025-07-12T21:36:13.775887",
     "status": "completed"
    },
    "tags": []
   },
   "outputs": [
    {
     "name": "stdout",
     "output_type": "stream",
     "text": [
      "logistic completed\n",
      "rf completed\n",
      "knn completed\n",
      "svm completed\n"
     ]
    }
   ],
   "source": [
    "# Trabajar los hiperparámetros\n",
    "results = []\n",
    "best_models = {}\n",
    "for model_name, mp in models.items():\n",
    "    clf = GridSearchCV(mp['model'], mp['params'], cv=3, scoring='f1_weighted', n_jobs=-1)\n",
    "    clf.fit(X_train, y_train)\n",
    "    results.append({\n",
    "        'model': model_name,\n",
    "        'best_score': clf.best_score_,\n",
    "        'best_params': clf.best_params_\n",
    "    })\n",
    "    best_models[model_name] = clf.best_estimator_\n",
    "    print(f'{model_name} completed')"
   ]
  },
  {
   "cell_type": "markdown",
   "id": "c7d4d1f2",
   "metadata": {
    "papermill": {
     "duration": 0.005075,
     "end_time": "2025-07-12T21:36:39.672594",
     "exception": false,
     "start_time": "2025-07-12T21:36:39.667519",
     "status": "completed"
    },
    "tags": []
   },
   "source": [
    "---\n",
    "## Evaluación del modelo"
   ]
  },
  {
   "cell_type": "code",
   "execution_count": 14,
   "id": "6b6c2b2b",
   "metadata": {
    "execution": {
     "iopub.execute_input": "2025-07-12T21:36:39.683639Z",
     "iopub.status.busy": "2025-07-12T21:36:39.683429Z",
     "iopub.status.idle": "2025-07-12T21:36:39.692401Z",
     "shell.execute_reply": "2025-07-12T21:36:39.691788Z"
    },
    "papermill": {
     "duration": 0.015771,
     "end_time": "2025-07-12T21:36:39.693514",
     "exception": false,
     "start_time": "2025-07-12T21:36:39.677743",
     "status": "completed"
    },
    "tags": []
   },
   "outputs": [
    {
     "data": {
      "text/html": [
       "<div>\n",
       "<style scoped>\n",
       "    .dataframe tbody tr th:only-of-type {\n",
       "        vertical-align: middle;\n",
       "    }\n",
       "\n",
       "    .dataframe tbody tr th {\n",
       "        vertical-align: top;\n",
       "    }\n",
       "\n",
       "    .dataframe thead th {\n",
       "        text-align: right;\n",
       "    }\n",
       "</style>\n",
       "<table border=\"1\" class=\"dataframe\">\n",
       "  <thead>\n",
       "    <tr style=\"text-align: right;\">\n",
       "      <th></th>\n",
       "      <th>model</th>\n",
       "      <th>best_score</th>\n",
       "      <th>best_params</th>\n",
       "    </tr>\n",
       "  </thead>\n",
       "  <tbody>\n",
       "    <tr>\n",
       "      <th>0</th>\n",
       "      <td>logistic</td>\n",
       "      <td>0.798414</td>\n",
       "      <td>{'C': 0.08858667904100824, 'solver': 'lbfgs'}</td>\n",
       "    </tr>\n",
       "    <tr>\n",
       "      <th>1</th>\n",
       "      <td>rf</td>\n",
       "      <td>0.823757</td>\n",
       "      <td>{'max_depth': 20, 'min_samples_split': 8, 'n_e...</td>\n",
       "    </tr>\n",
       "    <tr>\n",
       "      <th>2</th>\n",
       "      <td>knn</td>\n",
       "      <td>0.789610</td>\n",
       "      <td>{'n_neighbors': 4, 'weights': 'uniform'}</td>\n",
       "    </tr>\n",
       "    <tr>\n",
       "      <th>3</th>\n",
       "      <td>svm</td>\n",
       "      <td>0.829241</td>\n",
       "      <td>{'C': 2.0235896477251574, 'gamma': 'auto', 'ke...</td>\n",
       "    </tr>\n",
       "  </tbody>\n",
       "</table>\n",
       "</div>"
      ],
      "text/plain": [
       "      model  best_score                                        best_params\n",
       "0  logistic    0.798414      {'C': 0.08858667904100824, 'solver': 'lbfgs'}\n",
       "1        rf    0.823757  {'max_depth': 20, 'min_samples_split': 8, 'n_e...\n",
       "2       knn    0.789610           {'n_neighbors': 4, 'weights': 'uniform'}\n",
       "3       svm    0.829241  {'C': 2.0235896477251574, 'gamma': 'auto', 'ke..."
      ]
     },
     "execution_count": 14,
     "metadata": {},
     "output_type": "execute_result"
    }
   ],
   "source": [
    "df_results = pd.DataFrame(results)\n",
    "\n",
    "df_results"
   ]
  },
  {
   "cell_type": "code",
   "execution_count": 15,
   "id": "f2215789",
   "metadata": {
    "execution": {
     "iopub.execute_input": "2025-07-12T21:36:39.704975Z",
     "iopub.status.busy": "2025-07-12T21:36:39.704553Z",
     "iopub.status.idle": "2025-07-12T21:36:39.845100Z",
     "shell.execute_reply": "2025-07-12T21:36:39.844489Z"
    },
    "papermill": {
     "duration": 0.14734,
     "end_time": "2025-07-12T21:36:39.846236",
     "exception": false,
     "start_time": "2025-07-12T21:36:39.698896",
     "status": "completed"
    },
    "tags": []
   },
   "outputs": [
    {
     "data": {
      "image/png": "[encoded data removed]",
      "text/plain": [
       "<Figure size 1000x600 with 1 Axes>"
      ]
     },
     "metadata": {},
     "output_type": "display_data"
    }
   ],
   "source": [
    "model_names = [result['model'] for result in results]\n",
    "model_scores = [result['best_score'] for result in results]\n",
    "\n",
    "colors = plt.cm.viridis(np.linspace(0, 1, len(model_names)))\n",
    "\n",
    "plt.figure(figsize=(10, 6))\n",
    "plt.bar(model_names, model_scores, color=colors)\n",
    "plt.ylim(min(model_scores) - 0.05, max(model_scores) + 0.001)\n",
    "plt.ylabel('Best Score')\n",
    "plt.title('Comparación de Modelos')\n",
    "plt.show()"
   ]
  },
  {
   "cell_type": "code",
   "execution_count": 16,
   "id": "0a657f92",
   "metadata": {
    "execution": {
     "iopub.execute_input": "2025-07-12T21:36:39.858708Z",
     "iopub.status.busy": "2025-07-12T21:36:39.858502Z",
     "iopub.status.idle": "2025-07-12T21:36:39.956929Z",
     "shell.execute_reply": "2025-07-12T21:36:39.956081Z"
    },
    "papermill": {
     "duration": 0.105925,
     "end_time": "2025-07-12T21:36:39.958020",
     "exception": false,
     "start_time": "2025-07-12T21:36:39.852095",
     "status": "completed"
    },
    "tags": []
   },
   "outputs": [
    {
     "name": "stdout",
     "output_type": "stream",
     "text": [
      "------------------------------\n",
      "logistic:\n",
      "\n",
      "Accuracy: 0.8092031425364759\n",
      "F1 Score: 0.8064768027876733\n",
      "------------------------------\n",
      "rf:\n",
      "\n",
      "Accuracy: 0.9158249158249159\n",
      "F1 Score: 0.9148553163692211\n",
      "------------------------------\n",
      "knn:\n",
      "\n",
      "Accuracy: 0.8540965207631874\n",
      "F1 Score: 0.8505840145948967\n",
      "------------------------------\n",
      "svm:\n",
      "\n",
      "Accuracy: 0.8372615039281706\n",
      "F1 Score: 0.8348695374527327\n"
     ]
    }
   ],
   "source": [
    "from sklearn.metrics import accuracy_score, f1_score\n",
    "\n",
    "for model_name, model in best_models.items():\n",
    "    model_predic = model.predict(X_train)\n",
    "    accuracy = accuracy_score(y_train, model_predic)\n",
    "    f1 = f1_score(y_train, model_predic, average='weighted')\n",
    "    print('------------------------------')\n",
    "    print(model_name + ':\\n')\n",
    "    print(f\"Accuracy: {accuracy}\")\n",
    "    print(f\"F1 Score: {f1}\")"
   ]
  },
  {
   "cell_type": "code",
   "execution_count": 17,
   "id": "8c369a5f",
   "metadata": {
    "execution": {
     "iopub.execute_input": "2025-07-12T21:36:39.970860Z",
     "iopub.status.busy": "2025-07-12T21:36:39.970062Z",
     "iopub.status.idle": "2025-07-12T21:36:39.978907Z",
     "shell.execute_reply": "2025-07-12T21:36:39.978353Z"
    },
    "papermill": {
     "duration": 0.01614,
     "end_time": "2025-07-12T21:36:39.980002",
     "exception": false,
     "start_time": "2025-07-12T21:36:39.963862",
     "status": "completed"
    },
    "tags": []
   },
   "outputs": [],
   "source": [
    "X_test = preprocess_pipeline.transform(test_df)"
   ]
  },
  {
   "cell_type": "code",
   "execution_count": 18,
   "id": "69f3c331",
   "metadata": {
    "execution": {
     "iopub.execute_input": "2025-07-12T21:36:39.992272Z",
     "iopub.status.busy": "2025-07-12T21:36:39.992092Z",
     "iopub.status.idle": "2025-07-12T21:36:40.004897Z",
     "shell.execute_reply": "2025-07-12T21:36:40.004280Z"
    },
    "papermill": {
     "duration": 0.020121,
     "end_time": "2025-07-12T21:36:40.006030",
     "exception": false,
     "start_time": "2025-07-12T21:36:39.985909",
     "status": "completed"
    },
    "tags": []
   },
   "outputs": [
    {
     "data": {
      "text/plain": [
       "array([0, 1, 0, 0, 0, 0, 1, 0, 1, 0, 0, 0, 1, 0, 1, 1, 0, 0, 1, 1, 0, 1,\n",
       "       1, 0, 1, 0, 1, 0, 0, 0, 0, 0, 0, 0, 0, 0, 1, 1, 0, 0, 0, 0, 0, 1,\n",
       "       1, 0, 0, 0, 1, 0, 0, 0, 1, 1, 0, 0, 0, 0, 0, 1, 0, 0, 0, 1, 0, 1,\n",
       "       1, 0, 0, 0, 1, 0, 1, 0, 1, 0, 0, 1, 0, 1, 1, 0, 0, 0, 0, 0, 1, 1,\n",
       "       1, 1, 1, 0, 1, 0, 0, 0, 1, 0, 1, 0, 1, 0, 0, 0, 1, 0, 0, 0, 0, 0,\n",
       "       0, 1, 1, 1, 1, 0, 0, 1, 0, 1, 1, 0, 1, 0, 0, 1, 0, 1, 0, 0, 0, 0,\n",
       "       0, 0, 0, 0, 0, 0, 1, 0, 0, 1, 0, 0, 0, 0, 0, 0, 0, 0, 1, 0, 0, 0,\n",
       "       0, 0, 1, 1, 0, 1, 1, 1, 1, 0, 0, 0, 0, 0, 1, 1, 0, 0, 0, 0, 0, 1,\n",
       "       1, 0, 1, 1, 0, 0, 1, 0, 1, 0, 1, 0, 0, 0, 0, 0, 0, 0, 1, 0, 1, 1,\n",
       "       0, 1, 1, 1, 0, 1, 0, 0, 1, 0, 1, 0, 0, 0, 0, 1, 0, 0, 1, 0, 1, 0,\n",
       "       1, 0, 1, 0, 1, 1, 0, 1, 0, 0, 0, 1, 0, 0, 0, 0, 0, 0, 1, 1, 1, 1,\n",
       "       0, 0, 0, 0, 1, 0, 1, 1, 1, 0, 0, 0, 0, 0, 0, 0, 1, 0, 0, 0, 1, 1,\n",
       "       0, 0, 0, 0, 1, 0, 0, 0, 1, 1, 0, 1, 0, 0, 0, 0, 1, 1, 1, 1, 1, 0,\n",
       "       0, 0, 0, 0, 0, 1, 0, 0, 0, 0, 1, 0, 0, 0, 0, 0, 0, 0, 1, 1, 0, 1,\n",
       "       0, 1, 0, 0, 0, 1, 1, 1, 0, 0, 0, 0, 0, 0, 0, 0, 1, 0, 1, 0, 0, 0,\n",
       "       1, 0, 0, 1, 0, 0, 0, 0, 0, 0, 0, 0, 0, 1, 0, 1, 0, 1, 0, 1, 1, 0,\n",
       "       0, 0, 1, 0, 1, 0, 0, 1, 0, 1, 1, 0, 1, 0, 0, 1, 1, 0, 0, 1, 0, 0,\n",
       "       1, 1, 0, 0, 0, 0, 0, 0, 1, 1, 0, 1, 0, 0, 0, 0, 0, 1, 1, 0, 0, 1,\n",
       "       0, 1, 0, 0, 1, 0, 1, 0, 0, 0, 0, 0, 1, 1, 1, 1, 1, 0, 1, 0, 0, 0])"
      ]
     },
     "execution_count": 18,
     "metadata": {},
     "output_type": "execute_result"
    }
   ],
   "source": [
    "final_model = best_models['svm']\n",
    "y_pred = final_model.predict(X_test)\n",
    "y_pred"
   ]
  },
  {
   "cell_type": "code",
   "execution_count": 19,
   "id": "4a9cb5c8",
   "metadata": {
    "execution": {
     "iopub.execute_input": "2025-07-12T21:36:40.018722Z",
     "iopub.status.busy": "2025-07-12T21:36:40.018529Z",
     "iopub.status.idle": "2025-07-12T21:36:40.028757Z",
     "shell.execute_reply": "2025-07-12T21:36:40.027782Z"
    },
    "papermill": {
     "duration": 0.017782,
     "end_time": "2025-07-12T21:36:40.030031",
     "exception": false,
     "start_time": "2025-07-12T21:36:40.012249",
     "status": "completed"
    },
    "tags": []
   },
   "outputs": [
    {
     "name": "stdout",
     "output_type": "stream",
     "text": [
      "              precision    recall  f1-score   support\n",
      "\n",
      "          No       0.95      0.96      0.96       266\n",
      "         Yes       0.93      0.91      0.92       152\n",
      "\n",
      "    accuracy                           0.94       418\n",
      "   macro avg       0.94      0.94      0.94       418\n",
      "weighted avg       0.94      0.94      0.94       418\n",
      "\n"
     ]
    }
   ],
   "source": [
    "from sklearn.metrics import classification_report, confusion_matrix\n",
    "print(classification_report(y_test, y_pred, target_names=['No', 'Yes']))"
   ]
  },
  {
   "cell_type": "code",
   "execution_count": 20,
   "id": "6d3354dd",
   "metadata": {
    "execution": {
     "iopub.execute_input": "2025-07-12T21:36:40.042867Z",
     "iopub.status.busy": "2025-07-12T21:36:40.042655Z",
     "iopub.status.idle": "2025-07-12T21:36:40.210668Z",
     "shell.execute_reply": "2025-07-12T21:36:40.209810Z"
    },
    "papermill": {
     "duration": 0.175762,
     "end_time": "2025-07-12T21:36:40.211814",
     "exception": false,
     "start_time": "2025-07-12T21:36:40.036052",
     "status": "completed"
    },
    "tags": []
   },
   "outputs": [
    {
     "data": {
      "image/png": "[encoded data removed]",
      "text/plain": [
       "<Figure size 800x600 with 2 Axes>"
      ]
     },
     "metadata": {},
     "output_type": "display_data"
    }
   ],
   "source": [
    "# Matriz de confusión\n",
    "plt.figure(figsize=(8, 6))\n",
    "sns.heatmap(confusion_matrix(y_test, y_pred), annot=True, fmt='d', cmap='Blues')\n",
    "plt.title('Matriz de confusión del modelo seleccionado')\n",
    "plt.xlabel('Predicted')\n",
    "plt.ylabel('True')\n",
    "plt.show()"
   ]
  },
  {
   "cell_type": "code",
   "execution_count": 21,
   "id": "84582ebe",
   "metadata": {
    "execution": {
     "iopub.execute_input": "2025-07-12T21:36:40.225129Z",
     "iopub.status.busy": "2025-07-12T21:36:40.224919Z",
     "iopub.status.idle": "2025-07-12T21:36:40.393202Z",
     "shell.execute_reply": "2025-07-12T21:36:40.392307Z"
    },
    "papermill": {
     "duration": 0.176035,
     "end_time": "2025-07-12T21:36:40.394346",
     "exception": false,
     "start_time": "2025-07-12T21:36:40.218311",
     "status": "completed"
    },
    "tags": []
   },
   "outputs": [
    {
     "data": {
      "image/png": "[encoded data removed]",
      "text/plain": [
       "<Figure size 800x600 with 2 Axes>"
      ]
     },
     "metadata": {},
     "output_type": "display_data"
    }
   ],
   "source": [
    "conf_matrix = confusion_matrix(y_test, y_pred)\n",
    "conf_matrix_normalized = conf_matrix.astype('float') / conf_matrix.sum(axis=1)[:, np.newaxis]\n",
    "\n",
    "plt.figure(figsize=(8, 6))\n",
    "sns.heatmap(conf_matrix_normalized, annot=True, fmt='.2f', cmap='Blues', xticklabels=[0, 1], yticklabels=[0,1])\n",
    "plt.title('Matriz de Confusión Normalizada - Random Forest')\n",
    "plt.xlabel('Predicción')\n",
    "plt.ylabel('Real')\n",
    "plt.show()"
   ]
  },
  {
   "cell_type": "markdown",
   "id": "901a459b",
   "metadata": {
    "papermill": {
     "duration": 0.006387,
     "end_time": "2025-07-12T21:36:40.407512",
     "exception": false,
     "start_time": "2025-07-12T21:36:40.401125",
     "status": "completed"
    },
    "tags": []
   },
   "source": [
    "---\n",
    "## Conclusión"
   ]
  }
 ],
 "metadata": {
  "kaggle": {
   "accelerator": "nvidiaTeslaT4",
   "dataSources": [
    {
     "databundleVersionId": 26502,
     "sourceId": 3136,
     "sourceType": "competition"
    }
   ],
   "dockerImageVersionId": 31090,
   "isGpuEnabled": true,
   "isInternetEnabled": true,
   "language": "python",
   "sourceType": "notebook"
  },
  "kernelspec": {
   "display_name": "Python 3",
   "language": "python",
   "name": "python3"
  },
  "language_info": {
   "codemirror_mode": {
    "name": "ipython",
    "version": 3
   },
   "file_extension": ".py",
   "mimetype": "text/x-python",
   "name": "python",
   "nbconvert_exporter": "python",
   "pygments_lexer": "ipython3",
   "version": "3.11.13"
  },
  "papermill": {
   "default_parameters": {},
   "duration": 39.624717,
   "end_time": "2025-07-12T21:36:43.031034",
   "environment_variables": {},
   "exception": null,
   "input_path": "__notebook__.ipynb",
   "output_path": "__notebook__.ipynb",
   "parameters": {},
   "start_time": "2025-07-12T21:36:03.406317",
   "version": "2.6.0"
  }
 },
 "nbformat": 4,
 "nbformat_minor": 5
}
