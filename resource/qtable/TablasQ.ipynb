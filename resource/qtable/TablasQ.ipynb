{
 "cells": [
  {
   "metadata": {},
   "cell_type": "markdown",
   "source": [
    "# ¿Qué es una Tabla Q?\n",
    "Una **Tabla Q** es una estructura central en el algoritmo de aprendizaje por refuerzo conocido como **Q-Learning**. En este contexto:\n",
    "\n",
    "- **Q-Learning** es un método que permite a un agente (como un fantasma) aprender la mejor acción que debe tomar en cada estado para maximizar una recompensa acumulativa a largo plazo.\n",
    "- La **Tabla Q** es donde se almacena esta información. Es un **diccionario** (o matriz) que mapea:\n",
    "\n",
    "### Componentes de la Tabla Q\n",
    "1. **Estado:** Representa la situación actual del agente.\n",
    "\n",
    "2. **Acción:** Representa las posibles decisiones que puede tomar el agente (por ejemplo, moverse hacia arriba, abajo, izquierda o derecha).\n",
    "\n",
    "3. **Valor Q:** Es un número que estima la calidad de tomar una acción específica en un estado dado. Un valor más alto indica que esa acción tiene un mayor potencial de recompensa.\n",
    "\n",
    "---\n",
    "\n",
    "# ¿Por qué es importante guardar la Tabla Q?\n",
    "\n",
    "### 1. Evita perder el aprendizaje previo\n",
    "- La tabla Q contiene todo el conocimiento que el agente ha aprendido.\n",
    "- Si no la guardas y recargas en la próxima sesión, el agente tendrá que empezar de cero.\n",
    "- Esto es ineficiente y poco práctico en problemas complejos.\n",
    "\n",
    "### 2. Continuidad en el entrenamiento\n",
    "- En muchos casos, el aprendizaje no ocurre en una sola sesión.\n",
    "- Guardar la tabla Q permite continuar el entrenamiento en sesiones futuras sin perder el progreso.\n",
    "\n",
    "### 3. Facilita la evaluación y ajustes\n",
    "- Al guardar la tabla Q, puedes analizar su contenido (valores de estados y acciones).\n",
    "- Esto te permite ajustar parámetros como `epsilon`, `alpha`, y `gamma` para mejorar el desempeño del modelo.\n",
    "\n",
    "### 4. Eficiencia\n",
    "- En entornos como juegos, donde hay muchos estados posibles, entrenar desde cero en cada partida puede ser computacionalmente costoso.\n",
    "- Guardar la tabla Q optimiza este proceso.\n",
    "\n",
    "### 5. Adaptabilidad\n",
    "- Si cambias elementos en el entorno (como el mapa), puedes reusar la tabla Q previamente entrenada.\n",
    "- Esto reduce el tiempo necesario para que el agente aprenda el nuevo entorno.\n",
    "\n"
   ],
   "id": "f6287fa68df34234"
  }
 ],
 "metadata": {
  "kernelspec": {
   "display_name": "Python 3",
   "language": "python",
   "name": "python3"
  },
  "language_info": {
   "codemirror_mode": {
    "name": "ipython",
    "version": 2
   },
   "file_extension": ".py",
   "mimetype": "text/x-python",
   "name": "python",
   "nbconvert_exporter": "python",
   "pygments_lexer": "ipython2",
   "version": "2.7.6"
  }
 },
 "nbformat": 4,
 "nbformat_minor": 5
}
